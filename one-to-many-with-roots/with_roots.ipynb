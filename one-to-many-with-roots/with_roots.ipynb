{
 "cells": [
  {
   "cell_type": "code",
   "execution_count": 162,
   "metadata": {},
   "outputs": [],
   "source": [
    "\n",
    "from translate import Translator\n",
    "import spacy\n",
    "from spacy.matcher import Matcher\n",
    "from spacy.util import filter_spans\n",
    "from spacy import displacy\n",
    "\n",
    "nlp = en_core_web_sm.load()\n",
    "\n",
    "nlp_english = spacy.load('en_core_web_sm')\n",
    "nlp_german = spacy.load(\"de_core_news_sm\")\n",
    "nlp_french = spacy.load(\"fr_core_news_sm\")\n",
    "nlp_dutch = spacy.load(\"nl_core_news_sm\")\n",
    "nlp_italian = spacy.load(\"it_core_news_sm\")\n",
    "nlp_portuguese = spacy.load(\"pt_core_news_sm\")\n",
    "nlp_spanish = spacy.load(\"es_core_news_sm\")\n",
    "\n",
    "to_translate = str(input(\"Enter text to translate: \"))\n",
    "\n",
    "pattern = [{'POS': 'VERB', 'OP': '?'}]\n"
   ]
  },
  {
   "cell_type": "code",
   "execution_count": 163,
   "metadata": {},
   "outputs": [
    {
     "name": "stdout",
     "output_type": "stream",
     "text": [
      "Once you know all the elements, it’s not difficult to pull together a sentence.\n",
      "know\n",
      "’\n",
      "pull\n"
     ]
    }
   ],
   "source": [
    "english_matcher = Matcher(nlp_english.vocab)\n",
    "english_matcher.add(\"Verb phrase\", [pattern])\n",
    "\n",
    "doc_english = nlp_english(to_translate)\n",
    "matches = english_matcher(doc_english)\n",
    "spans = [doc_english[start:end] for _, start, end in matches]\n",
    "\n",
    "print(to_translate)\n",
    "for i in range(len(filter_spans(spans))):\n",
    "    print(filter_spans(spans)[i].root.lemma_)\n"
   ]
  },
  {
   "cell_type": "code",
   "execution_count": 164,
   "metadata": {},
   "outputs": [
    {
     "name": "stdout",
     "output_type": "stream",
     "text": [
      "Sobald Sie alle Elemente kennen, ist es nicht schwer, einen Satz zusammenzustellen.\n",
      "kennen\n",
      "zusammenstellen\n"
     ]
    }
   ],
   "source": [
    "translator_german = Translator(to_lang=\"de\")\n",
    "en_to_de = translator_german.translate(to_translate)\n",
    "doc_de = nlp_german(en_to_de)\n",
    "\n",
    "german_matcher = Matcher(nlp_german.vocab)\n",
    "german_matcher.add(\"Verb phrase\", [pattern])\n",
    "doc_german = nlp_german(en_to_de)\n",
    "german_matches = german_matcher(doc_german)\n",
    "german_spans = [doc_german[start:end] for _, start, end in german_matches]\n",
    "print(en_to_de)\n",
    "for i in range(len(filter_spans(german_spans))):\n",
    "    print(filter_spans(german_spans)[i].root.lemma_)\n"
   ]
  },
  {
   "cell_type": "code",
   "execution_count": 165,
   "metadata": {},
   "outputs": [
    {
     "name": "stdout",
     "output_type": "stream",
     "text": [
      "Als je eenmaal alle elementen kent, is het niet moeilijk om een zin samen te stellen.\n",
      "kennen\n",
      "stellen\n"
     ]
    }
   ],
   "source": [
    "translator_dutch = Translator(to_lang=\"nl\")\n",
    "en_to_nl = translator_dutch.translate(to_translate)\n",
    "doc_de = nlp_dutch(en_to_nl)\n",
    "\n",
    "dutch_matcher = Matcher(nlp_dutch.vocab)\n",
    "dutch_matcher.add(\"Verb phrase\", [pattern])\n",
    "doc_dutch = nlp_dutch(en_to_nl)\n",
    "dutch_matches = dutch_matcher(doc_dutch)\n",
    "dutch_spans = [doc_dutch[start:end] for _, start, end in dutch_matches]\n",
    "print(en_to_nl)\n",
    "for i in range(len(filter_spans(dutch_spans))):\n",
    "    print(filter_spans(dutch_spans)[i].root.lemma_)"
   ]
  },
  {
   "cell_type": "code",
   "execution_count": 166,
   "metadata": {},
   "outputs": [
    {
     "name": "stdout",
     "output_type": "stream",
     "text": [
      "Une fois que vous connaissez tous les éléments, il n’est pas difficile de rassembler une phrase.\n",
      "connaître\n",
      "rassembler\n"
     ]
    }
   ],
   "source": [
    "translator_french = Translator(to_lang=\"fr\")\n",
    "en_to_fr = translator_french.translate(to_translate)\n",
    "doc_fr = nlp_french(en_to_fr)\n",
    "\n",
    "french_matcher = Matcher(nlp_french.vocab)\n",
    "french_matcher.add(\"Verb phrase\", [pattern])\n",
    "\n",
    "doc_french = nlp_french(en_to_fr)\n",
    "french_matches = french_matcher(doc_french)\n",
    "french_spans = [doc_french[start:end] for _, start, end in french_matches]\n",
    "\n",
    "print(en_to_fr)\n",
    "for i in range(len(filter_spans(french_spans))):\n",
    "    print(filter_spans(french_spans)[i].root.lemma_)\n"
   ]
  },
  {
   "cell_type": "code",
   "execution_count": 167,
   "metadata": {},
   "outputs": [
    {
     "name": "stdout",
     "output_type": "stream",
     "text": [
      "Una volta che conosci tutti gli elementi, non è difficile mettere insieme una frase.\n",
      "conoscere\n",
      "mettere\n"
     ]
    }
   ],
   "source": [
    "translator_italian = Translator(to_lang=\"it\")\n",
    "en_to_it = translator_italian.translate(to_translate)\n",
    "doc_italian = nlp_italian(en_to_it)\n",
    "\n",
    "italian_matcher = Matcher(nlp_italian.vocab)\n",
    "italian_matcher.add(\"Verb phrase\", [pattern])\n",
    "\n",
    "italian_matches = italian_matcher(doc_italian)\n",
    "italian_spans = [doc_italian[start:end] for _, start, end in italian_matches]\n",
    "print(en_to_it)\n",
    "for i in range(len(filter_spans(italian_spans))):\n",
    "    print(filter_spans(italian_spans)[i].root.lemma_)\n"
   ]
  },
  {
   "cell_type": "code",
   "execution_count": 168,
   "metadata": {},
   "outputs": [
    {
     "name": "stdout",
     "output_type": "stream",
     "text": [
      "Uma vez que você conhece todos os elementos, não é difícil juntar uma frase.\n",
      "conhecer\n",
      "juntar\n"
     ]
    }
   ],
   "source": [
    "translator_portuguese = Translator(to_lang=\"pt\")\n",
    "en_to_pt = translator_portuguese.translate(to_translate)\n",
    "doc_portuguese = nlp_portuguese(en_to_pt)\n",
    "\n",
    "portuguese_matcher = Matcher(nlp_portuguese.vocab)\n",
    "portuguese_matcher.add(\"Verb phrase\", [pattern])\n",
    "\n",
    "portuguese_matches = portuguese_matcher(doc_portuguese)\n",
    "portuguese_spans = [doc_portuguese[start:end]\n",
    "                    for _, start, end in portuguese_matches]\n",
    "print(en_to_pt)\n",
    "for i in range(len(filter_spans(portuguese_spans))):\n",
    "    print(filter_spans(portuguese_spans)[i].root.lemma_)"
   ]
  },
  {
   "cell_type": "code",
   "execution_count": 169,
   "metadata": {},
   "outputs": [
    {
     "name": "stdout",
     "output_type": "stream",
     "text": [
      "Una vez que conoces todos los elementos, no es difícil juntar una oración.\n",
      "conocer\n",
      "juntar\n"
     ]
    }
   ],
   "source": [
    "translator_spanish = Translator(to_lang=\"es\")\n",
    "en_to_es = translator_spanish.translate(to_translate)\n",
    "doc_spanish = nlp_spanish(en_to_es)\n",
    "\n",
    "spanish_matcher = Matcher(nlp_spanish.vocab)\n",
    "spanish_matcher.add(\"Verb phrase\", [pattern])\n",
    "\n",
    "spanish_matches = spanish_matcher(doc_spanish)\n",
    "spanish_spans = [doc_spanish[start:end]\n",
    "                 for _, start, end in spanish_matches]\n",
    "print(en_to_es)\n",
    "for i in range(len(filter_spans(spanish_spans))):\n",
    "    print(filter_spans(spanish_spans)[i].root.lemma_)"
   ]
  }
 ],
 "metadata": {
  "interpreter": {
   "hash": "7bcfac60cd316cab1810c67f16d75e14abb874771ecdd5af4e3a00fe11b217a0"
  },
  "kernelspec": {
   "display_name": "Python 3.9.7 ('base')",
   "language": "python",
   "name": "python3"
  },
  "language_info": {
   "codemirror_mode": {
    "name": "ipython",
    "version": 3
   },
   "file_extension": ".py",
   "mimetype": "text/x-python",
   "name": "python",
   "nbconvert_exporter": "python",
   "pygments_lexer": "ipython3",
   "version": "3.9.7"
  },
  "orig_nbformat": 4
 },
 "nbformat": 4,
 "nbformat_minor": 2
}
